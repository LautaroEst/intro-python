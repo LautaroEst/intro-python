{
 "cells": [
  {
   "cell_type": "markdown",
   "id": "ed1db36b",
   "metadata": {},
   "source": [
    "1. [Jupyter Notebooks](#jupyter)\n",
    "2. [Breve Introducción a Python](#intro)\n",
    "    1. [Tipos básicos en Python](#types)\n",
    "        1. [Números y *strings*](#nums_strings)\n",
    "        2. [Booleanos y sus operadores](#bools)\n",
    "        3. [El tipo None y el *keyword* \"is\"](#none)\n",
    "        4. [Contenedores básicos de datos: listas, diccionarios, tuplas y conjuntos](#data_structures)\n",
    "        5. [Funciones](#functions)\n",
    "        6. [Clases y objetos](#classes)\n",
    "        7. [Otros](#others)\n",
    "    2. [Condicionales y manejo de errores](#if_else)\n",
    "    3. [Ciclos e iteradores](#loops)\n",
    "    4. [Módulos y librerías](#modules)\n",
    "3. [Bibliografía](#references)"
   ]
  },
  {
   "cell_type": "markdown",
   "id": "cc976956",
   "metadata": {},
   "source": [
    "# Jupyter Notebooks <a name=\"jupyter\"></a>"
   ]
  },
  {
   "cell_type": "markdown",
   "id": "63f3cfa3",
   "metadata": {},
   "source": [
    "Los archivos `.ipynb` están divididos en *celdas*, en donde podemos escribir texto plano en estilo [Markdown](https://github.com/adam-p/markdown-here/wiki/Markdown-Cheatsheet) (como estamos haciendo acá) o código en lenguaje Python, como se hace a continuación:"
   ]
  },
  {
   "cell_type": "code",
   "execution_count": null,
   "id": "07cf0127",
   "metadata": {},
   "outputs": [],
   "source": [
    "# Esto es una celda de código, no de texto.\n",
    "# Puedo hacer comentarios empezando el renglón con un \"#\".\n",
    "\n",
    "print('Esta es una celda de código. Para ejecutar la celda, utilizo Crtl+Enter.')\n",
    "print('Lo único que tiene de interesante esta celda es la función print(arg1,arg2,...,argn)')\n",
    "print('que, como su nombre lo indica,','imprime lo que está entre paréntesis. No hay más misterio que eso.')"
   ]
  },
  {
   "cell_type": "markdown",
   "id": "b550889f",
   "metadata": {},
   "source": [
    "En el caso de una celda de código, al oprimir `Crtl+Enter`, las instrucciones se ejecutan una a continuación de la otra. "
   ]
  },
  {
   "cell_type": "code",
   "execution_count": null,
   "id": "c5c37355",
   "metadata": {},
   "outputs": [],
   "source": [
    "a = \"Esto sale como output\"\n",
    "a"
   ]
  },
  {
   "cell_type": "markdown",
   "id": "481ee55f",
   "metadata": {},
   "source": [
    "**Para usuaries de Jupyter local**: Para crear una celda nueva, hacemos click en el ícono `+`, que se encuentra en la barra de herramientas. Para eliminarla, el ícono es el de las tijeras. Con el botón *dropdown* de la misma barra se puede elegir si la celda es para uso de texto (opción *Markdown*) o de código (opción *Code*).\n",
    "\n",
    "**Para usuaries de Google Colab**: Para crear una nueva celda podemos hacer click en las opciones `+Code` y `+Text` que aparecen en la parte superior izquierda de la pestaña, o cuando pasamos el cursor por la parte inferior de cualquier celda. Para eliminar una celda busco el ícono \"tacho de basura\" que aparece en la parte superior derecha de la celda que estamos utilizando."
   ]
  },
  {
   "cell_type": "markdown",
   "id": "05ae303b",
   "metadata": {},
   "source": [
    "En Jupyter se pueden usar los comandos de bash anteponiendo el signo `!` antes de cada línea."
   ]
  },
  {
   "cell_type": "code",
   "execution_count": null,
   "id": "5f1618ea",
   "metadata": {},
   "outputs": [],
   "source": [
    "!wget https://upload.wikimedia.org/wikipedia/commons/thumb/c/c7/Saturn_during_Equinox.jpg/300px-Saturn_during_Equinox.jpg -O img.jpg"
   ]
  },
  {
   "cell_type": "markdown",
   "id": "0bfc2ef8",
   "metadata": {},
   "source": [
    "# Breve Introducción a Python <a name=\"intro\"></a>\n",
    "\n",
    "Python es un lenguaje de propósito general orientado a objetos. En lo que sigue se hará una breve introducción al tema y para profundizar en ello puede consultarse la bibliografía dada al final de este notebook."
   ]
  },
  {
   "cell_type": "markdown",
   "id": "4bbc2822",
   "metadata": {},
   "source": [
    "## Tipos básicos en Python <a name=\"types\"></a>\n",
    "\n",
    "En Python existen muchos tipos de objetos, pero los más importantes para nosotres van a ser los siguientes:\n",
    "\n",
    "* Los números enteros (`int`), flotantes (`float`) y complejos (`complex`)\n",
    "* Las cadenas de caracteres (`str`)\n",
    "* Los booleanos (`bool`)\n",
    "* Las listas (`list`)\n",
    "* Los diccionarios (`dict`)\n",
    "* Los conjuntos (`set`)\n",
    "* El tipo nulo especial de Python (`None`)\n",
    "* Las funciones comunes (`function`) y las funciones lambda (`lambda function`)"
   ]
  },
  {
   "cell_type": "markdown",
   "id": "82fb39b6",
   "metadata": {},
   "source": [
    "### Números y *strings* <a name=\"nums_strings\"></a>"
   ]
  },
  {
   "cell_type": "code",
   "execution_count": null,
   "id": "e34615d3",
   "metadata": {},
   "outputs": [],
   "source": [
    "i_int = 1\n",
    "i_float = 1.\n",
    "i_complex = 1+0j \n",
    "i_string = \"1\"\n",
    "i_string2 = '1'"
   ]
  },
  {
   "cell_type": "code",
   "execution_count": null,
   "id": "e2784e32",
   "metadata": {},
   "outputs": [],
   "source": [
    "i = i_int\n",
    "print(i)\n",
    "print(type(i))"
   ]
  },
  {
   "cell_type": "markdown",
   "id": "e9a2672b",
   "metadata": {},
   "source": [
    "Algunas operaciones entre números"
   ]
  },
  {
   "cell_type": "code",
   "execution_count": null,
   "id": "5d017a70",
   "metadata": {},
   "outputs": [],
   "source": [
    "print(4 + 3)"
   ]
  },
  {
   "cell_type": "code",
   "execution_count": null,
   "id": "a6a06848",
   "metadata": {},
   "outputs": [],
   "source": [
    "print(4 * 3)"
   ]
  },
  {
   "cell_type": "code",
   "execution_count": null,
   "id": "163523a2",
   "metadata": {},
   "outputs": [],
   "source": [
    "print(4 / 3)"
   ]
  },
  {
   "cell_type": "code",
   "execution_count": null,
   "id": "077114bc",
   "metadata": {},
   "outputs": [],
   "source": [
    "print(4 // 4)"
   ]
  },
  {
   "cell_type": "code",
   "execution_count": null,
   "id": "3c36eee5",
   "metadata": {},
   "outputs": [],
   "source": [
    "print(4 % 3)"
   ]
  },
  {
   "cell_type": "code",
   "execution_count": null,
   "id": "b48d8373",
   "metadata": {},
   "outputs": [],
   "source": [
    "print(4**3)"
   ]
  },
  {
   "cell_type": "markdown",
   "id": "62ec6cb1",
   "metadata": {},
   "source": [
    "Comparamos tipos entre sí"
   ]
  },
  {
   "cell_type": "code",
   "execution_count": null,
   "id": "ee23962d",
   "metadata": {},
   "outputs": [],
   "source": [
    "print(i_int == i_float)"
   ]
  },
  {
   "cell_type": "code",
   "execution_count": null,
   "id": "65da3c15",
   "metadata": {},
   "outputs": [],
   "source": [
    "print(i_int == i_complex)"
   ]
  },
  {
   "cell_type": "code",
   "execution_count": null,
   "id": "5919ba3d",
   "metadata": {},
   "outputs": [],
   "source": [
    "print(i_string == i_string2)"
   ]
  },
  {
   "cell_type": "code",
   "execution_count": null,
   "id": "c606a1a4",
   "metadata": {},
   "outputs": [],
   "source": [
    "print(i_int == i_string)"
   ]
  },
  {
   "cell_type": "markdown",
   "id": "5bb87e2e",
   "metadata": {},
   "source": [
    "### Booleanos y sus operadores <a name=\"bools\"></a>"
   ]
  },
  {
   "cell_type": "code",
   "execution_count": null,
   "id": "5f1500b3",
   "metadata": {},
   "outputs": [],
   "source": [
    "A, B, C, D, E = 1, 2, \"1\", \"2\", '3'"
   ]
  },
  {
   "cell_type": "code",
   "execution_count": null,
   "id": "f2d89fde",
   "metadata": {},
   "outputs": [],
   "source": [
    "print(A == B)"
   ]
  },
  {
   "cell_type": "code",
   "execution_count": null,
   "id": "e49fd083",
   "metadata": {},
   "outputs": [],
   "source": [
    "print(A >= B)"
   ]
  },
  {
   "cell_type": "code",
   "execution_count": null,
   "id": "c4e8f850",
   "metadata": {},
   "outputs": [],
   "source": [
    "print(B > A)"
   ]
  },
  {
   "cell_type": "code",
   "execution_count": null,
   "id": "ae330806",
   "metadata": {},
   "outputs": [],
   "source": [
    "print(C == D)"
   ]
  },
  {
   "cell_type": "code",
   "execution_count": null,
   "id": "e80764ef",
   "metadata": {},
   "outputs": [],
   "source": [
    "print(C > D)"
   ]
  },
  {
   "cell_type": "code",
   "execution_count": null,
   "id": "23e75d01",
   "metadata": {},
   "outputs": [],
   "source": [
    "print(A > C)"
   ]
  },
  {
   "cell_type": "code",
   "execution_count": null,
   "id": "4fb27c6a",
   "metadata": {},
   "outputs": [],
   "source": [
    "print(C is D)"
   ]
  },
  {
   "cell_type": "code",
   "execution_count": null,
   "id": "57ba63f8",
   "metadata": {},
   "outputs": [],
   "source": [
    "print(D == E)"
   ]
  },
  {
   "cell_type": "code",
   "execution_count": null,
   "id": "9b524a69",
   "metadata": {},
   "outputs": [],
   "source": [
    "print(A < B and C == D)"
   ]
  },
  {
   "cell_type": "code",
   "execution_count": null,
   "id": "ce51c355",
   "metadata": {},
   "outputs": [],
   "source": [
    "print(True or False)"
   ]
  },
  {
   "cell_type": "markdown",
   "id": "97d060e2",
   "metadata": {},
   "source": [
    "### El tipo `None` y el *keyword* `is` <a name=\"none\"></a>"
   ]
  },
  {
   "cell_type": "code",
   "execution_count": null,
   "id": "fd0c52e8",
   "metadata": {},
   "outputs": [],
   "source": [
    "a, b = 1, 1."
   ]
  },
  {
   "cell_type": "code",
   "execution_count": null,
   "id": "6893ca75",
   "metadata": {},
   "outputs": [],
   "source": [
    "print(a is b)"
   ]
  },
  {
   "cell_type": "code",
   "execution_count": null,
   "id": "c3523767",
   "metadata": {},
   "outputs": [],
   "source": [
    "print(a == b)"
   ]
  },
  {
   "cell_type": "markdown",
   "id": "d7604d5d",
   "metadata": {},
   "source": [
    "### Contenedores básicos de datos: listas, diccionarios, tuplas y conjuntos <a name=\"data_structures\"></a>"
   ]
  },
  {
   "cell_type": "code",
   "execution_count": null,
   "id": "a5d8d9e8",
   "metadata": {},
   "outputs": [],
   "source": [
    "a = [1,1,2,3] # Lista\n",
    "b = {1,1,2,3} # Set (conjunto)\n",
    "c = (1,2,3,4) # Tupla\n",
    "d = {\"perro\": \"guau\", \"gato\": \"miau\", \"vaca\": \"muuu\", \"vinchuca\": \"vinchuuu\"} # Diccionario\n",
    "\n",
    "print(a, b, c, d)"
   ]
  },
  {
   "cell_type": "markdown",
   "id": "f18959de",
   "metadata": {},
   "source": [
    "Indexación de listas y tuplas"
   ]
  },
  {
   "cell_type": "code",
   "execution_count": null,
   "id": "1cc90d06",
   "metadata": {},
   "outputs": [],
   "source": [
    "a[0]"
   ]
  },
  {
   "cell_type": "code",
   "execution_count": null,
   "id": "916ef402",
   "metadata": {},
   "outputs": [],
   "source": [
    "a[2:4]"
   ]
  },
  {
   "cell_type": "code",
   "execution_count": null,
   "id": "a22096ed",
   "metadata": {},
   "outputs": [],
   "source": [
    "a[-1]"
   ]
  },
  {
   "cell_type": "markdown",
   "id": "ec6c0913",
   "metadata": {},
   "source": [
    "**Precaución**: Las listas son objetos *mutables*!"
   ]
  },
  {
   "cell_type": "code",
   "execution_count": null,
   "id": "35f80b41",
   "metadata": {},
   "outputs": [],
   "source": [
    "a = [1,2,3,4]\n",
    "b = a\n",
    "b[0] = 4\n",
    "a"
   ]
  },
  {
   "cell_type": "markdown",
   "id": "03ec1790",
   "metadata": {},
   "source": [
    "Los strings, por otro lado, no se pueden modificar. Son *inmutables*!"
   ]
  },
  {
   "cell_type": "code",
   "execution_count": null,
   "id": "c2fc59fd",
   "metadata": {},
   "outputs": [],
   "source": [
    "a = \"abcde\"\n",
    "a[0] = 3"
   ]
  },
  {
   "cell_type": "code",
   "execution_count": null,
   "id": "b027ebaa",
   "metadata": {},
   "outputs": [],
   "source": [
    "d[\"perro\"]"
   ]
  },
  {
   "cell_type": "markdown",
   "id": "5a9a846e",
   "metadata": {},
   "source": [
    "### Funciones <a name=\"functions\"></a>"
   ]
  },
  {
   "cell_type": "code",
   "execution_count": null,
   "id": "96a882c0",
   "metadata": {},
   "outputs": [],
   "source": [
    "def hola_mundo():\n",
    "    print(\"Hola mundo!\")\n",
    "\n",
    "hola_mundo()"
   ]
  },
  {
   "cell_type": "code",
   "execution_count": null,
   "id": "6017184e",
   "metadata": {},
   "outputs": [],
   "source": [
    "def saludar():\n",
    "    name = input(\"Ingrese su nombre: \")\n",
    "    print(\"\\nHola, \" + name + \"!\")\n",
    "    # print(\"\\nHola, {}!\".format(name))\n",
    "    # print(f\"\\nHola, {name}!\")\n",
    "    \n",
    "saludar()"
   ]
  },
  {
   "cell_type": "code",
   "execution_count": null,
   "id": "d54efc14",
   "metadata": {},
   "outputs": [],
   "source": [
    "def crear_saludo(nombre):\n",
    "    return f\"\\nHola, {nombre}!\"\n",
    "    \n",
    "def saludar_n_veces(n):\n",
    "    nombre = input(\"Ingrese su nombre: \")\n",
    "    saludo = crear_saludo(nombre)\n",
    "    saludo = saludo + \" \"\n",
    "    saludo = saludo * n\n",
    "    print(saludo)\n",
    "    \n",
    "saludar_n_veces(4)"
   ]
  },
  {
   "cell_type": "markdown",
   "id": "9f209337",
   "metadata": {},
   "source": [
    "### Clases y Objetos <a name=\"classes\"></a>"
   ]
  },
  {
   "cell_type": "code",
   "execution_count": null,
   "id": "c5044a18",
   "metadata": {},
   "outputs": [],
   "source": []
  },
  {
   "cell_type": "code",
   "execution_count": null,
   "id": "1f4d828f",
   "metadata": {},
   "outputs": [],
   "source": [
    "# class AlumneFiuba:\n",
    "    \n",
    "#     materias_por_carrera = {\n",
    "#         \"electrónica\": [\"Álgebra 2\", \"AM2\", \"Adc\", \"Dispo\"],\n",
    "#         \"informática\": [\"Álgebra 2\", \"AM2\", \"Orga\", \"Algoritmos2\"],\n",
    "#     }\n",
    "    \n",
    "#     def __init__(self,nombre,apellido,carrera):\n",
    "#         self.nombre = nombre\n",
    "#         self.apellido = apellido\n",
    "#         self.correo = f\"{nombre[0].lower()}{apellido.lower()}@fi.uba.ar\"\n",
    "#         self.carrera = carrera\n",
    "#         self.materias_por_aprobar = self.materias_por_carrera[carrera]\n",
    "        \n",
    "#     def imprimir_correo(self):\n",
    "#         print(self.correo)\n",
    "        \n",
    "#     def imprimir_materias_por_aprobar(self):\n",
    "#         print(\"Todavía quedan por aprobar:\",self.materias_por_aprobar)\n",
    "        \n",
    "#     def marcar_aprobada(self,materia):\n",
    "#         self.materias_por_aprobar.remove(materia)\n",
    "#         print(f\"Chau {materia}!\")\n",
    "        \n",
    "# a1 = AlumneFiuba(\"Lautaro\",\"Estienne\",\"electrónica\")\n",
    "\n",
    "# a1.imprimir_materias_por_aprobar()\n",
    "# a1.marcar_aprobada(\"AM2\")\n",
    "# a1.imprimir_materias_por_aprobar()"
   ]
  },
  {
   "cell_type": "markdown",
   "id": "c160e3c4",
   "metadata": {},
   "source": [
    "### Otros <a name=\"others\"></a>"
   ]
  },
  {
   "cell_type": "code",
   "execution_count": null,
   "id": "2bbed346",
   "metadata": {},
   "outputs": [],
   "source": [
    "from numpy import array\n",
    "\n",
    "type(array([1,2,3]))"
   ]
  },
  {
   "cell_type": "markdown",
   "id": "05b503e6",
   "metadata": {},
   "source": [
    "## Condicionales y manejo de errores <a name=\"if_else\"></a>\n",
    "\n",
    "Ver [acá](https://docs.python.org/3/library/exceptions.html#concrete-exceptions) para una lista completa de los diferentes tipos de error en Python."
   ]
  },
  {
   "cell_type": "code",
   "execution_count": null,
   "id": "b5b55e2f",
   "metadata": {},
   "outputs": [],
   "source": []
  },
  {
   "cell_type": "markdown",
   "id": "624aebc4",
   "metadata": {},
   "source": [
    "## Ciclos e iteradores <a name=\"loops\"></a>"
   ]
  },
  {
   "cell_type": "code",
   "execution_count": null,
   "id": "49572f11",
   "metadata": {},
   "outputs": [],
   "source": []
  },
  {
   "cell_type": "markdown",
   "id": "d440ab5c",
   "metadata": {},
   "source": [
    "## Módulos y librerías <a name=\"modules\"></a>"
   ]
  },
  {
   "cell_type": "code",
   "execution_count": null,
   "id": "a94235b8",
   "metadata": {},
   "outputs": [],
   "source": []
  },
  {
   "cell_type": "markdown",
   "id": "62fdc344",
   "metadata": {},
   "source": [
    "## Manejo de archivos <a name=\"files\"></a>"
   ]
  },
  {
   "cell_type": "code",
   "execution_count": null,
   "id": "5c055630",
   "metadata": {},
   "outputs": [],
   "source": [
    "f = open(\"archivo.csv\",\"w\")\n",
    "f.write(\"Hola mundo!\")\n",
    "f.close()"
   ]
  },
  {
   "cell_type": "markdown",
   "id": "8d5c600e",
   "metadata": {},
   "source": [
    "# Bibliografía <a name=\"references\"></a>\n",
    "\n",
    "* Youtube:\n",
    "    * Curso para principiantes de [Corey Schafer](https://www.youtube.com/watch?v=YYXdXT2l-Gg&list=PL-osiE80TeTskrapNbzXhwoFUiLCjGgY7)\n",
    "    * Buscar según la aplicación que une quiera desarrollar (Machine Learning, procesamiento de señales, ecuaciones diferenciales, etc.)\n",
    "    \n",
    "* [Documentación oficial](https://www.python.org/)\n",
    "* [Towards Data Science](https://towardsdatascience.com/) y [Medium](https://medium.com/) son dos páginas con muy buenos tutoriales.\n",
    "* Por supuesto, Google."
   ]
  }
 ],
 "metadata": {
  "kernelspec": {
   "display_name": "Python 3 (ipykernel)",
   "language": "python",
   "name": "python3"
  },
  "language_info": {
   "codemirror_mode": {
    "name": "ipython",
    "version": 3
   },
   "file_extension": ".py",
   "mimetype": "text/x-python",
   "name": "python",
   "nbconvert_exporter": "python",
   "pygments_lexer": "ipython3",
   "version": "3.9.13"
  }
 },
 "nbformat": 4,
 "nbformat_minor": 5
}
