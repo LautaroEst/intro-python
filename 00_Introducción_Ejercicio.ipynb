{
 "cells": [
  {
   "cell_type": "code",
   "execution_count": null,
   "id": "70d4a7a9",
   "metadata": {},
   "outputs": [],
   "source": [
    "!wget https://raw.githubusercontent.com/CoreyMSchafer/code_snippets/master/Python-Patreon-CSV/patrons.csv"
   ]
  },
  {
   "cell_type": "markdown",
   "id": "fd671bb4",
   "metadata": {},
   "source": [
    "# Ejercicio 1\n",
    "\n",
    "Dados dos strings que representan horarios (en formato hh:mm:ss) devolver la suma de ambos en otro string con el mismo formato. Ejemplo: 20:40:10 + 1:30:20 = 21:10:30."
   ]
  },
  {
   "cell_type": "code",
   "execution_count": null,
   "id": "70e98d17",
   "metadata": {},
   "outputs": [],
   "source": []
  },
  {
   "cell_type": "markdown",
   "id": "caae0812",
   "metadata": {},
   "source": [
    "# Ejercicio 2"
   ]
  },
  {
   "cell_type": "markdown",
   "id": "7ffaebe3",
   "metadata": {},
   "source": [
    "Dada una lista de horarios en formato hh:mm:ss, ordenarla de mayor a menor"
   ]
  },
  {
   "cell_type": "code",
   "execution_count": null,
   "id": "4d2a2e00",
   "metadata": {},
   "outputs": [],
   "source": []
  },
  {
   "cell_type": "markdown",
   "id": "6dfb54ef",
   "metadata": {},
   "source": [
    "# Ejercicio 3"
   ]
  },
  {
   "cell_type": "markdown",
   "id": "4fe0c5b1",
   "metadata": {},
   "source": [
    "Dado un strings con la siguiente estructura:\n",
    "\n",
    "\n",
    "1. Crear un diccionario que contenga todos los posibles campos que aparecen en el string como \"values\".\n",
    "2. Crear una clase `Fila` que sea creada a partir de un diccionario como el anterior"
   ]
  },
  {
   "cell_type": "code",
   "execution_count": null,
   "id": "966021e2",
   "metadata": {},
   "outputs": [],
   "source": []
  },
  {
   "cell_type": "markdown",
   "id": "a1803777",
   "metadata": {},
   "source": [
    "# Ejercicio 4"
   ]
  },
  {
   "cell_type": "markdown",
   "id": "54c56439",
   "metadata": {},
   "source": [
    "Dada una lista de strings como en el ejercicio anterior, devolver una lista de instancias de la clase `Fila` con el contenido de cada string."
   ]
  },
  {
   "cell_type": "code",
   "execution_count": null,
   "id": "e0502007",
   "metadata": {},
   "outputs": [],
   "source": []
  },
  {
   "cell_type": "markdown",
   "id": "5667b075",
   "metadata": {},
   "source": [
    "# Ejercicio 4"
   ]
  },
  {
   "cell_type": "markdown",
   "id": "cf240137",
   "metadata": {},
   "source": [
    "Implementar un parser de archivos `.csv`. Considerar el caso en donde no hay comas dentro de un mismo campo."
   ]
  },
  {
   "cell_type": "code",
   "execution_count": null,
   "id": "0adf9dc3",
   "metadata": {},
   "outputs": [],
   "source": [
    "class CSVFile:\n",
    "    \n",
    "    def __init__(self,filename):\n",
    "        ## TODO: leer el archivo \"filename\"\n",
    "        pass\n",
    "        \n",
    "    def loc(self,row,column):\n",
    "        ## TODO: obtener el campo \"column\" de la fila \"row\"\n",
    "        pass\n",
    "    \n",
    "    def iloc(self,i_row,j_column):\n",
    "        ## TODO: obtener el campo en la posición \"j_column\" de la fila \"i_row\"\n",
    "        pass\n",
    "        "
   ]
  }
 ],
 "metadata": {
  "kernelspec": {
   "display_name": "Python 3 (ipykernel)",
   "language": "python",
   "name": "python3"
  },
  "language_info": {
   "codemirror_mode": {
    "name": "ipython",
    "version": 3
   },
   "file_extension": ".py",
   "mimetype": "text/x-python",
   "name": "python",
   "nbconvert_exporter": "python",
   "pygments_lexer": "ipython3",
   "version": "3.9.13"
  }
 },
 "nbformat": 4,
 "nbformat_minor": 5
}
