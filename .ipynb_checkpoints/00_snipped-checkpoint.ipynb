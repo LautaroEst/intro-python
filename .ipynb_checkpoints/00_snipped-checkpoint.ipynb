{
 "cells": [
  {
   "cell_type": "markdown",
   "id": "a0e22365",
   "metadata": {},
   "source": [
    "1. [Jupyter Notebooks](#jupyter)\n",
    "2. [Breve Introducción a Python](#intro)\n",
    "    1. [Tipos básicos en Python](#types)\n",
    "        1. [Números y *strings*](#nums_strings)\n",
    "        2. [Booleanos y sus operadores](#bools)\n",
    "        3. [Contenedores básicos de datos: listas, diccionarios y conjuntos](#data_structures)\n",
    "        4. [El tipo None y el *keyword* \"is\"](#none)\n",
    "        5. [Funciones](#functions)\n",
    "        6. [Otros](#others)\n",
    "\n",
    "    2. [Condicionales y manejo de errores](#if_else)\n",
    "    3. [Ciclos e iteradores](#loops)\n",
    "    4. [Módulos y librerías](#modules)\n",
    "3. [Bibliografía](#references)\n"
   ]
  },
  {
   "cell_type": "markdown",
   "id": "0b5e80bc",
   "metadata": {},
   "source": [
    "# Jupyter Notebooks <a name=\"jupyter\"></a>"
   ]
  },
  {
   "cell_type": "markdown",
   "id": "1bd269ad",
   "metadata": {},
   "source": [
    "Los archivos `.ipynb` están divididos en *celdas*, en donde podemos escribir texto plano en estilo [Markdown](https://github.com/adam-p/markdown-here/wiki/Markdown-Cheatsheet) (como estamos haciendo acá) o código en lenguaje Python, como se hace a continuación:"
   ]
  },
  {
   "cell_type": "code",
   "execution_count": null,
   "id": "65f40564",
   "metadata": {},
   "outputs": [],
   "source": [
    "# Esto es una celda de código, no de texto.\n",
    "# Puedo hacer comentarios empezando el renglón con un \"#\".\n",
    "\n",
    "print('Esta es una celda de código. Para ejecutar la celda, utilizo Crtl+Enter.')\n",
    "print('Lo único que tiene de interesante esta celda es la función print(arg1,arg2,...,argn)')\n",
    "print('que, como su nombre lo indica,','imprime lo que está entre paréntesis. No hay más misterio que eso.')"
   ]
  },
  {
   "cell_type": "markdown",
   "id": "0de19811",
   "metadata": {},
   "source": [
    "En el caso de una celda de código, al oprimir `Crtl+Enter`, las instrucciones se ejecutan una a continuación de la otra. "
   ]
  },
  {
   "cell_type": "markdown",
   "id": "f06be7be",
   "metadata": {},
   "source": [
    "**Para usuaries de Jupyter local**: Para crear una celda nueva, hacemos click en el ícono `+`, que se encuentra en la barra de herramientas. Para eliminarla, el ícono es el de las tijeras. Con el botón *dropdown* de la misma barra se puede elegir si la celda es para uso de texto (opción *Markdown*) o de código (opción *Code*).\n",
    "\n",
    "**Para usuaries de Google Colab**: Para crear una nueva celda podemos hacer click en las opciones `+Code` y `+Text` que aparecen en la parte superior izquierda de la pestaña, o cuando pasamos el cursor por la parte inferior de cualquier celda. Para eliminar una celda busco el ícono \"tacho de basura\" que aparece en la parte superior derecha de la celda que estamos utilizando."
   ]
  },
  {
   "cell_type": "markdown",
   "id": "efad19a5",
   "metadata": {},
   "source": [
    "# Breve Introducción a Python <a name=\"intro\"></a>\n",
    "\n",
    "Python es un lenguaje de propósito general orientado a objetos. En lo que sigue se hará una breve introducción al tema y para profundizar en ello puede consultarse la bibliografía dada al final de este notebook."
   ]
  },
  {
   "cell_type": "markdown",
   "id": "843ab784",
   "metadata": {},
   "source": [
    "## Tipos básicos en Python <a name=\"types\"></a>\n",
    "\n",
    "En Python existen muchos tipos de objetos, pero los más importantes para nosotres van a ser los siguientes:\n",
    "\n",
    "* Los números enteros (`int`), flotantes (`float`) y complejos (`complex`)\n",
    "* Las cadenas de caracteres (`str`)\n",
    "* Los booleanos (`bool`)\n",
    "* Las listas (`listas`)\n",
    "* Los diccionarios (`dict`)\n",
    "* Los conjuntos (`set`)\n",
    "* El tipo nulo especial de Python (`None`)\n",
    "* Las funciones comunes (`function`) y las funciones lambda (`lambda function`)"
   ]
  },
  {
   "cell_type": "markdown",
   "id": "ca2f786b",
   "metadata": {},
   "source": [
    "### Números y *strings* <a name=\"nums_strings\"></a>"
   ]
  },
  {
   "cell_type": "code",
   "execution_count": 16,
   "id": "f242da11",
   "metadata": {},
   "outputs": [
    {
     "name": "stdout",
     "output_type": "stream",
     "text": [
      "1 <class 'int'>\n",
      "1.0 <class 'float'>\n",
      "(1+0j) <class 'complex'>\n",
      "1 <class 'str'>\n",
      "1 <class 'str'>\n",
      "True\n",
      "True\n",
      "True\n",
      "False\n"
     ]
    }
   ],
   "source": [
    "i_int, i_float, i_complex, i_string, i_string2 = 1, 1., 1+0j, \"1\", '1'\n",
    "\n",
    "print(i_int, type(i_int))\n",
    "print(i_float, type(i_float))\n",
    "print(i_complex, type(i_complex))\n",
    "print(i_string, type(i_string))\n",
    "print(i_string2, type(i_string2))\n",
    "\n",
    "print(i_int == i_float)\n",
    "print(i_int == i_complex)\n",
    "print(i_string == i_string2)\n",
    "print(i_int == i_string)"
   ]
  },
  {
   "cell_type": "markdown",
   "id": "4bf56e7f",
   "metadata": {},
   "source": [
    "### Booleanos y sus operadores <a name=\"bools\"></a>"
   ]
  },
  {
   "cell_type": "code",
   "execution_count": null,
   "id": "8c69163e",
   "metadata": {},
   "outputs": [],
   "source": []
  },
  {
   "cell_type": "markdown",
   "id": "6c3ce706",
   "metadata": {},
   "source": [
    "### Contenedores básicos de datos: listas, diccionarios y conjuntos <a name=\"data_structures\"></a>"
   ]
  },
  {
   "cell_type": "code",
   "execution_count": null,
   "id": "824627f4",
   "metadata": {},
   "outputs": [],
   "source": []
  },
  {
   "cell_type": "markdown",
   "id": "21247c03",
   "metadata": {},
   "source": [
    "### El tipo `None` y el *keyword* `is` <a name=\"none\"></a>"
   ]
  },
  {
   "cell_type": "code",
   "execution_count": null,
   "id": "b60a3844",
   "metadata": {},
   "outputs": [],
   "source": []
  },
  {
   "cell_type": "markdown",
   "id": "9dc514a9",
   "metadata": {},
   "source": [
    "### Funciones <a name=\"functions\"></a>"
   ]
  },
  {
   "cell_type": "code",
   "execution_count": null,
   "id": "ef6d6820",
   "metadata": {},
   "outputs": [],
   "source": []
  },
  {
   "cell_type": "markdown",
   "id": "4b5b6065",
   "metadata": {},
   "source": [
    "### Otros <a name=\"others\"></a>"
   ]
  },
  {
   "cell_type": "markdown",
   "id": "0c6437a2",
   "metadata": {},
   "source": [
    "Además de estos tipos, es posible importar tipos de otras librerías"
   ]
  },
  {
   "cell_type": "code",
   "execution_count": 1,
   "id": "eddaedd6",
   "metadata": {},
   "outputs": [
    {
     "data": {
      "text/plain": [
       "numpy.ndarray"
      ]
     },
     "execution_count": 1,
     "metadata": {},
     "output_type": "execute_result"
    }
   ],
   "source": [
    "from numpy import array\n",
    "\n",
    "type(array([1,2,3]))"
   ]
  },
  {
   "cell_type": "markdown",
   "id": "8d46273c",
   "metadata": {},
   "source": [
    "## Condicionales y manejo de errores <a name=\"if_else\"></a>"
   ]
  },
  {
   "cell_type": "code",
   "execution_count": null,
   "id": "c75c4012",
   "metadata": {},
   "outputs": [],
   "source": []
  },
  {
   "cell_type": "markdown",
   "id": "374d5746",
   "metadata": {},
   "source": [
    "## Ciclos e iteradores <a name=\"loops\"></a>"
   ]
  },
  {
   "cell_type": "code",
   "execution_count": null,
   "id": "579e8104",
   "metadata": {},
   "outputs": [],
   "source": []
  },
  {
   "cell_type": "markdown",
   "id": "29d91e02",
   "metadata": {},
   "source": [
    "## Módulos y librerías <a name=\"modules\"></a>"
   ]
  },
  {
   "cell_type": "code",
   "execution_count": null,
   "id": "6c6accf2",
   "metadata": {},
   "outputs": [],
   "source": []
  },
  {
   "cell_type": "markdown",
   "id": "a31e09c3",
   "metadata": {},
   "source": [
    "# Bibliografía <a name=\"references\"></a>"
   ]
  },
  {
   "cell_type": "code",
   "execution_count": null,
   "id": "ac047eb5",
   "metadata": {},
   "outputs": [],
   "source": []
  }
 ],
 "metadata": {
  "kernelspec": {
   "display_name": "Python 3 (ipykernel)",
   "language": "python",
   "name": "python3"
  },
  "language_info": {
   "codemirror_mode": {
    "name": "ipython",
    "version": 3
   },
   "file_extension": ".py",
   "mimetype": "text/x-python",
   "name": "python",
   "nbconvert_exporter": "python",
   "pygments_lexer": "ipython3",
   "version": "3.9.13"
  }
 },
 "nbformat": 4,
 "nbformat_minor": 5
}
